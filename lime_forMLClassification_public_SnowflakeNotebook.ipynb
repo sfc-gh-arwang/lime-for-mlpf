{
 "cells": [
  {
   "cell_type": "markdown",
   "id": "a7cef4b6-717d-4926-9a04-090ae174ae75",
   "metadata": {
    "collapsed": false,
    "name": "Markdown1",
    "resultHeight": 41
   },
   "source": [
    "**Initial Setup**"
   ]
  },
  {
   "cell_type": "code",
   "execution_count": null,
   "id": "3775908f-ca36-4846-8f38-5adca39217f2",
   "metadata": {
    "collapsed": false,
    "language": "python",
    "name": "Import_Packages"
   },
   "outputs": [],
   "source": [
    "# Import python packages\n",
    "import lime\n",
    "import lime.lime_tabular\n",
    "import pandas as pd\n",
    "import numpy as np\n",
    "\n",
    "# We can also use Snowpark for our analyses!\n",
    "from snowflake.snowpark.context import get_active_session\n",
    "session = get_active_session()\n"
   ]
  },
  {
   "cell_type": "markdown",
   "id": "671a9ee9-ef11-4d99-a58c-256ec03265fe",
   "metadata": {
    "collapsed": false,
    "name": "Markdown2",
    "resultHeight": 67
   },
   "source": [
    "**Create Training View** -  https://quickstarts.snowflake.com/guide/lead_scoring_with_ml_powered_classification/index.html?index=..%2F..index#0"
   ]
  },
  {
   "cell_type": "code",
   "execution_count": null,
   "id": "cb13cfbb-8026-4ba0-a061-d2b6001b328b",
   "metadata": {
    "collapsed": false,
    "language": "sql",
    "name": "CreateTrainingView"
   },
   "outputs": [],
   "source": [
    "create or replace view customer_training\n",
    "as select age_band, household_income, marital_status, household_size, case when total_order_value<10 then 'BRONZE'\n",
    "    when total_order_value<=25 and total_order_value>10 then 'SILVER'\n",
    "    else 'GOLD' END as segment\n",
    "from customers\n",
    "where join_date<'2024-02-11'::date;"
   ]
  },
  {
   "cell_type": "markdown",
   "id": "bc762255-b6fc-42e4-810f-f42a039e820b",
   "metadata": {
    "collapsed": false,
    "name": "Markdown3",
    "resultHeight": 41
   },
   "source": [
    "**Encode Textual Labels, as LIME does not work on Textual Values**"
   ]
  },
  {
   "cell_type": "code",
   "execution_count": null,
   "id": "00281a0f-5dd7-4676-bd91-79ca59f07509",
   "metadata": {
    "collapsed": false,
    "language": "python",
    "name": "ImputeLabels"
   },
   "outputs": [],
   "source": [
    "from sklearn.preprocessing import LabelEncoder\n",
    "le = LabelEncoder()\n",
    "\n",
    "df_training_data = session.table('customer_training').to_pandas()\n",
    "\n",
    "feat = ['AGE_BAND', 'HOUSEHOLD_INCOME_le', 'MARITAL_STATUS_le', 'HOUSEHOLD_SIZE']\n",
    "# label encoding textual data\n",
    "df_training_data['HOUSEHOLD_INCOME_le'] = le.fit_transform(df_training_data['HOUSEHOLD_INCOME'])\n",
    "df_training_data['MARITAL_STATUS_le'] = le.fit_transform(df_training_data['MARITAL_STATUS']) \n",
    "df_training_data = df_training_data.drop(columns=[\"HOUSEHOLD_INCOME\",\"MARITAL_STATUS\"])\n",
    "\n",
    "#save dataframe\n",
    "sp_df = session.create_dataframe(df_training_data)\n",
    "sp_df.write.mode(\"overwrite\").save_as_table(\"customer_training_encoded\")"
   ]
  },
  {
   "cell_type": "markdown",
   "id": "888216e1-3a79-424c-898d-3284eb82b3f3",
   "metadata": {
    "collapsed": false,
    "name": "Markdown4",
    "resultHeight": 41
   },
   "source": [
    "**View new Table with Encoded Values**"
   ]
  },
  {
   "cell_type": "code",
   "execution_count": null,
   "id": "169caf86-ca71-4ed6-88a4-336c08370cf3",
   "metadata": {
    "collapsed": false,
    "language": "sql",
    "name": "SelectFromCTE"
   },
   "outputs": [],
   "source": [
    "SELECT * FROM customer_training_encoded;"
   ]
  },
  {
   "cell_type": "markdown",
   "id": "b127493a-67b3-42f6-86d1-8e34025bd7c6",
   "metadata": {
    "collapsed": false,
    "name": "Markdown5",
    "resultHeight": 41
   },
   "source": [
    "**Train ML Powered Classification Model on Encoded Training View**"
   ]
  },
  {
   "cell_type": "code",
   "execution_count": null,
   "id": "1a71839f-5a3d-4c0f-80dc-e09cbe2a3a3a",
   "metadata": {
    "collapsed": false,
    "language": "sql",
    "name": "CreateMLClassificationModel",
    "resultHeight": 0
   },
   "outputs": [],
   "source": [
    "-- create the classification model\n",
    "CREATE OR REPLACE SNOWFLAKE.ML.CLASSIFICATION customer_classification_model(\n",
    "    INPUT_DATA => SYSTEM$REFERENCE('table', 'customer_training_encoded'),\n",
    "    TARGET_COLNAME => 'segment'\n",
    ");"
   ]
  },
  {
   "cell_type": "markdown",
   "id": "4624f2c8-5178-4033-8f9c-7a0a095769da",
   "metadata": {
    "collapsed": false,
    "name": "Markdown6",
    "resultHeight": 41
   },
   "source": [
    "**Create Temporary Table for Predictions**"
   ]
  },
  {
   "cell_type": "code",
   "execution_count": null,
   "id": "c27abc6c-b194-40d5-80da-bb64c88c2798",
   "metadata": {
    "collapsed": false,
    "language": "sql",
    "name": "CreateTempTablePredict",
    "resultHeight": 0
   },
   "outputs": [],
   "source": [
    "-- run prediction and save results\n",
    "CREATE OR REPLACE TEMPORARY TABLE customer_predictions_prep AS\n",
    "SELECT age_band, household_income, marital_status, household_size\n",
    "from customers;"
   ]
  },
  {
   "cell_type": "markdown",
   "id": "f07db2b2-b330-484f-83a7-c83bac1ff406",
   "metadata": {
    "collapsed": false,
    "name": "Markdown7",
    "resultHeight": 41
   },
   "source": [
    "**Encode Textual Values in Prediction Table and Save**"
   ]
  },
  {
   "cell_type": "code",
   "execution_count": null,
   "id": "2a397f44-0962-41c5-94b1-13a61c21bafe",
   "metadata": {
    "codeCollapsed": false,
    "collapsed": false,
    "language": "python",
    "name": "EncodePredictions",
    "resultHeight": 0
   },
   "outputs": [],
   "source": [
    "df_predictions_data = session.table('customer_predictions_prep').to_pandas()\n",
    "\n",
    "feat = ['AGE_BAND', 'HOUSEHOLD_INCOME_le', 'MARITAL_STATUS_le', 'HOUSEHOLD_SIZE']\n",
    "# label encoding textual data\n",
    "df_predictions_data['HOUSEHOLD_INCOME_le'] = le.fit_transform(df_predictions_data['HOUSEHOLD_INCOME'])\n",
    "df_predictions_data['MARITAL_STATUS_le'] = le.fit_transform(df_predictions_data['MARITAL_STATUS']) \n",
    "df_predictions_data = df_predictions_data.drop(columns=[\"HOUSEHOLD_INCOME\",\"MARITAL_STATUS\"])\n",
    "\n",
    "sp_df = session.create_dataframe(df_predictions_data)\n",
    "#print(sp_df.to_pandas().to_string())\n",
    "sp_df.write.mode(\"overwrite\").save_as_table(\"customer_predictions_encoded\")"
   ]
  },
  {
   "cell_type": "markdown",
   "id": "d97a88c4-3cfa-4968-bc54-8e17ef3b312a",
   "metadata": {
    "collapsed": false,
    "name": "Markdown8",
    "resultHeight": 41
   },
   "source": [
    "**Create a new Table from Temp Table with Numerical (Encoded) Values**"
   ]
  },
  {
   "cell_type": "code",
   "execution_count": null,
   "id": "364e94c5-63fd-4da8-bab3-b19e318f0eb5",
   "metadata": {
    "collapsed": false,
    "language": "sql",
    "name": "CreatePredictionsTablewithEncoded",
    "resultHeight": 0
   },
   "outputs": [],
   "source": [
    "-- run prediction and save results\n",
    "CREATE OR REPLACE TABLE customer_predictions AS\n",
    "SELECT AGE_BAND, \"HOUSEHOLD_INCOME_le\", \"MARITAL_STATUS_le\", HOUSEHOLD_SIZE,\n",
    "customer_classification_model!PREDICT(INPUT_DATA => object_construct(*)) as predictions,\n",
    "PARSE_JSON(PREDICTIONS)['class']::String as predicted_segment\n",
    "from customer_predictions_encoded;"
   ]
  },
  {
   "cell_type": "markdown",
   "id": "bcd255a7-7afc-46cd-ab17-396f778d1cd4",
   "metadata": {
    "collapsed": false,
    "name": "Markdown9",
    "resultHeight": 41
   },
   "source": [
    "**Load Table into Snowpark Dataframe** "
   ]
  },
  {
   "cell_type": "code",
   "execution_count": null,
   "id": "8e350d21-5e99-49d0-a5af-88d474e7a542",
   "metadata": {
    "collapsed": false,
    "language": "python",
    "name": "GetDF",
    "resultHeight": 0
   },
   "outputs": [],
   "source": [
    "df_prediction_data = session.table('customer_predictions').to_pandas()"
   ]
  },
  {
   "cell_type": "markdown",
   "id": "7e5c1d06-ac0a-4fa5-a78c-4baa8fd3691e",
   "metadata": {
    "collapsed": false,
    "name": "Markdown10",
    "resultHeight": 41
   },
   "source": [
    "**Set Up LIME TABULAR Explainer for Classification**"
   ]
  },
  {
   "cell_type": "code",
   "execution_count": null,
   "id": "3b7faa8b-cc65-4443-a481-39fc9185c080",
   "metadata": {
    "collapsed": false,
    "language": "python",
    "name": "SetupLIME",
    "resultHeight": 0
   },
   "outputs": [],
   "source": [
    "df_training_data_encoded = session.table('customer_training_encoded').to_pandas()\n",
    "feat = ['AGE_BAND', 'HOUSEHOLD_INCOME_le', 'MARITAL_STATUS_le', 'HOUSEHOLD_SIZE']\n",
    "\n",
    "explainer = lime.lime_tabular.LimeTabularExplainer(df_training_data_encoded[feat].astype(int).values,mode='classification',training_labels=np.array(df_training_data_encoded['SEGMENT']),feature_names=feat)"
   ]
  },
  {
   "cell_type": "markdown",
   "id": "1630f519-e690-47fb-a71f-5a4c693e46d1",
   "metadata": {
    "collapsed": false,
    "name": "Markdown11",
    "resultHeight": 41
   },
   "source": [
    "**Ask the Explainer to explain the first row of predictions**"
   ]
  },
  {
   "cell_type": "code",
   "execution_count": null,
   "id": "4500fcdf-4e15-4798-8472-e17911bfb048",
   "metadata": {
    "collapsed": false,
    "language": "python",
    "name": "RunLIMEFirstRow",
    "resultHeight": 0
   },
   "outputs": [],
   "source": [
    "#ML Powered Classification does not have a predict_proba function, so we need to create a custom function\n",
    "#to generate the probabilities for each class and return them in a 2D numpy array\n",
    "def prob(data):\n",
    "    return_array = []\n",
    "    for i in data:     \n",
    "        cmd =\"\"\"CREATE OR REPLACE TEMPORARY TABLE run_classification AS \n",
    "        SELECT customer_classification_model!PREDICT(INPUT_DATA => object_construct('AGE_BAND', ?, 'HOUSEHOLD_INCOME_le', ?, 'MARITAL_STATUS_le', ?, 'HOUSEHOLD_SIZE', ?)) as predictions\"\"\"\n",
    "\n",
    "        age = float(i[0])\n",
    "        hh_income = float(i[1])\n",
    "        mstatus = float(i[2])\n",
    "        hh_size = float(i[3])\n",
    "        \n",
    "        session.sql(cmd, params=[age, hh_income, mstatus, hh_size]).collect()\n",
    "\n",
    "        cmd =\"\"\"\n",
    "            CREATE OR REPLACE TEMPORARY TABLE predict_proba_classificationone AS\n",
    "            SELECT\n",
    "                predictions:probability:BRONZE::FLOAT AS bronze_proba,\n",
    "                predictions:probability:SILVER::FLOAT AS silver_proba,\n",
    "                predictions:probability:GOLD::FLOAT AS gold_proba,\n",
    "            FROM run_classification,\n",
    "            LATERAL FLATTEN(input => predictions);\n",
    "        \"\"\"\n",
    "        session.sql(cmd).collect()\n",
    "        \n",
    "        proba_array = session.table('predict_proba_classificationone').to_pandas().iloc[0].tolist()\n",
    "        #print(proba_array)\n",
    "        return_array.append(proba_array)\n",
    "        #print(return_array)\n",
    "    return np.array(return_array)\n",
    "\n",
    "# asking for explanation for LIME model, first row\n",
    "i = 1\n",
    "exp = explainer.explain_instance(df_prediction_data.loc[i,feat].astype(int).values, prob, num_features=4, num_samples=7)"
   ]
  },
  {
   "cell_type": "markdown",
   "id": "68f83c8f-3296-4200-beb7-6832f2a88fd1",
   "metadata": {
    "collapsed": false,
    "name": "Markdown12",
    "resultHeight": 41
   },
   "source": [
    "**What is the First Row of Predictions?**"
   ]
  },
  {
   "cell_type": "code",
   "execution_count": null,
   "id": "798bbef8-03a4-4d1d-91d0-aa4e6cae1532",
   "metadata": {
    "collapsed": false,
    "language": "python",
    "name": "ExamineDFRow1",
    "resultHeight": 0
   },
   "outputs": [],
   "source": [
    "i=1\n",
    "print(df_prediction_data.loc[i,feat].astype(int).values)"
   ]
  },
  {
   "cell_type": "markdown",
   "id": "53f97c9e-b1dd-47ca-9106-baf1f5aa147c",
   "metadata": {
    "collapsed": false,
    "name": "Markdown13",
    "resultHeight": 41
   },
   "source": [
    "**Show Explanation For First Row in a List**"
   ]
  },
  {
   "cell_type": "code",
   "execution_count": null,
   "id": "2be72a6c-295c-4ecd-8d1b-6867f94eccda",
   "metadata": {
    "collapsed": false,
    "language": "python",
    "name": "ShowExplanationList",
    "resultHeight": 0
   },
   "outputs": [],
   "source": [
    "exp.as_list()"
   ]
  }
 ],
 "metadata": {
  "kernelspec": {
   "display_name": "Streamlit Notebook",
   "name": "streamlit"
  }
 },
 "nbformat": 4,
 "nbformat_minor": 5
}
